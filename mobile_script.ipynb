{
  "nbformat": 4,
  "nbformat_minor": 0,
  "metadata": {
    "colab": {
      "provenance": []
    },
    "kernelspec": {
      "name": "ir",
      "display_name": "R"
    },
    "language_info": {
      "name": "R"
    }
  },
  "cells": [
    {
      "cell_type": "markdown",
      "source": [
        "Code to pull in data from a mobile workflow.  "
      ],
      "metadata": {
        "id": "BMqhS2BRUBrw"
      }
    },
    {
      "cell_type": "code",
      "execution_count": 2,
      "metadata": {
        "colab": {
          "base_uri": "https://localhost:8080/",
          "height": 236
        },
        "id": "uWrnqGpgTBI9",
        "outputId": "23b6da8f-e118-4227-ed0a-865e43faf193"
      },
      "outputs": [
        {
          "output_type": "stream",
          "name": "stderr",
          "text": [
            "Installing package into ‘/usr/local/lib/R/site-library’\n",
            "(as ‘lib’ is unspecified)\n",
            "\n",
            "Installing package into ‘/usr/local/lib/R/site-library’\n",
            "(as ‘lib’ is unspecified)\n",
            "\n"
          ]
        },
        {
          "output_type": "display_data",
          "data": {
            "text/html": [
              "<dl>\n",
              "\t<dt>$leaflet</dt>\n",
              "\t\t<dd>NULL</dd>\n",
              "\t<dt>$htmlwidgets</dt>\n",
              "\t\t<dd>NULL</dd>\n",
              "</dl>\n"
            ],
            "text/markdown": "$leaflet\n:   NULL\n$htmlwidgets\n:   NULL\n\n\n",
            "text/latex": "\\begin{description}\n\\item[\\$leaflet] NULL\n\\item[\\$htmlwidgets] NULL\n\\end{description}\n",
            "text/plain": [
              "$leaflet\n",
              "NULL\n",
              "\n",
              "$htmlwidgets\n",
              "NULL\n"
            ]
          },
          "metadata": {}
        },
        {
          "output_type": "display_data",
          "data": {
            "text/html": [
              "<style>\n",
              ".dl-inline {width: auto; margin:0; padding: 0}\n",
              ".dl-inline>dt, .dl-inline>dd {float: none; width: auto; display: inline-block}\n",
              ".dl-inline>dt::after {content: \":\\0020\"; padding-right: .5ex}\n",
              ".dl-inline>dt:not(:first-of-type) {padding-left: .5ex}\n",
              "</style><dl class=dl-inline><dt>leaflet</dt><dd>TRUE</dd><dt>htmlwidgets</dt><dd>TRUE</dd></dl>\n"
            ],
            "text/markdown": "leaflet\n:   TRUEhtmlwidgets\n:   TRUE\n\n",
            "text/latex": "\\begin{description*}\n\\item[leaflet] TRUE\n\\item[htmlwidgets] TRUE\n\\end{description*}\n",
            "text/plain": [
              "    leaflet htmlwidgets \n",
              "       TRUE        TRUE "
            ]
          },
          "metadata": {}
        }
      ],
      "source": [
        "#Installing packages may take as long as 10min\n",
        "packages<-c(\"leaflet\", \"htmlwidgets\")\n",
        "sapply(packages, install.packages, character.only=TRUE)\n",
        "sapply(packages, require, character.only=TRUE)"
      ]
    },
    {
      "cell_type": "code",
      "source": [
        "#load pre-installed packages\n",
        "library('tidyverse')\n",
        "library('googledrive')"
      ],
      "metadata": {
        "colab": {
          "base_uri": "https://localhost:8080/"
        },
        "id": "_pWKZDbUPEF2",
        "outputId": "0869c66e-1a42-4dd8-e011-785dfe740e03"
      },
      "execution_count": 3,
      "outputs": [
        {
          "output_type": "stream",
          "name": "stderr",
          "text": [
            "── \u001b[1mAttaching core tidyverse packages\u001b[22m ──────────────────────── tidyverse 2.0.0 ──\n",
            "\u001b[32m✔\u001b[39m \u001b[34mdplyr    \u001b[39m 1.1.3     \u001b[32m✔\u001b[39m \u001b[34mreadr    \u001b[39m 2.1.4\n",
            "\u001b[32m✔\u001b[39m \u001b[34mforcats  \u001b[39m 1.0.0     \u001b[32m✔\u001b[39m \u001b[34mstringr  \u001b[39m 1.5.0\n",
            "\u001b[32m✔\u001b[39m \u001b[34mggplot2  \u001b[39m 3.4.4     \u001b[32m✔\u001b[39m \u001b[34mtibble   \u001b[39m 3.2.1\n",
            "\u001b[32m✔\u001b[39m \u001b[34mlubridate\u001b[39m 1.9.3     \u001b[32m✔\u001b[39m \u001b[34mtidyr    \u001b[39m 1.3.0\n",
            "\u001b[32m✔\u001b[39m \u001b[34mpurrr    \u001b[39m 1.0.2     \n",
            "── \u001b[1mConflicts\u001b[22m ────────────────────────────────────────── tidyverse_conflicts() ──\n",
            "\u001b[31m✖\u001b[39m \u001b[34mdplyr\u001b[39m::\u001b[32mfilter()\u001b[39m masks \u001b[34mstats\u001b[39m::filter()\n",
            "\u001b[31m✖\u001b[39m \u001b[34mdplyr\u001b[39m::\u001b[32mlag()\u001b[39m    masks \u001b[34mstats\u001b[39m::lag()\n",
            "\u001b[36mℹ\u001b[39m Use the conflicted package (\u001b[3m\u001b[34m<http://conflicted.r-lib.org/>\u001b[39m\u001b[23m) to force all conflicts to become errors\n"
          ]
        }
      ]
    },
    {
      "cell_type": "code",
      "source": [
        "#google sheet to csv\n",
        "drive_deauth()\n",
        "drive_download(as_id(\"1YX4D-z25REGOCwhzI29YB_l8XgNpOcPmylldb-JqpTs\"), overwrite = TRUE, type = \"csv\")\n",
        "sign_data <- as.data.frame(read.csv(\"mobile_data.csv\")) #%>% drop_na(c(\"Longitude\",\"Latitude\"))"
      ],
      "metadata": {
        "colab": {
          "base_uri": "https://localhost:8080/"
        },
        "id": "Kx0fO_nKPJQM",
        "outputId": "525977d5-09b1-4117-cfde-f36cffb98a6d"
      },
      "execution_count": 8,
      "outputs": [
        {
          "output_type": "stream",
          "name": "stderr",
          "text": [
            "File downloaded:\n",
            "\n",
            "• \u001b[36mmobile_data\u001b[39m \u001b[90m<id: 1YX4D-z25REGOCwhzI29YB_l8XgNpOcPmylldb-JqpTs>\u001b[39m\n",
            "\n",
            "Saved locally as:\n",
            "\n",
            "• \u001b[34mmobile_data.csv\u001b[39m\n",
            "\n"
          ]
        }
      ]
    },
    {
      "cell_type": "code",
      "source": [
        "#leaflet - needs to be downloaded and opened in a browser\n",
        "sign_leaflet <- sign_data %>%\n",
        "      leaflet() %>%\n",
        "      addTiles(group = \"OSM\")%>%\n",
        "        addProviderTiles(providers$CartoDB.Positron, group = \"CartoDB\") %>%\n",
        "        addProviderTiles(providers$Esri.NatGeoWorldMap, group = \"NatGeo\") %>%\n",
        "        addProviderTiles(providers$Esri.WorldImagery, group = \"ESRI\") %>%\n",
        "      addCircleMarkers(popup = sign_data$Sign_Type,\n",
        "                       label = sign_data$Sign_Type,\n",
        "                       radius = 3*sign_data$Sign_Size,\n",
        "                       color = sign_data$Sign_Color,\n",
        "                       fillColor = sign_data$Sign_Color,\n",
        "                       fillOpacity = 0.7,\n",
        "                       group = \"Signs\",\n",
        "                       labelOptions = labelOptions(noHide = F, direction = \"bottom\",\n",
        "                                                   offset=c(0,-30), textOnly = TRUE)) %>%\n",
        "      addLayersControl(\n",
        "        baseGroups = c(\"OSM\", \"CartoDB\", \"NatGeo\", \"ESRI\"),\n",
        "        options = layersControlOptions(collapsed = FALSE),\n",
        "        overlayGroups = \"Signs\") %>%\n",
        "      addMiniMap(zoomLevelOffset = -5, position = \"bottomleft\") %>%\n",
        "      addScaleBar()\n",
        "saveWidget(sign_leaflet, file = \"sign_mobile.html\")"
      ],
      "metadata": {
        "colab": {
          "base_uri": "https://localhost:8080/"
        },
        "id": "SPcSqejmQq78",
        "outputId": "b96bfc74-5430-4cca-b7b2-07c00763ffd1"
      },
      "execution_count": 30,
      "outputs": [
        {
          "output_type": "stream",
          "name": "stderr",
          "text": [
            "Assuming \"longitude\" and \"latitude\" are longitude and latitude, respectively\n",
            "\n"
          ]
        }
      ]
    }
  ]
}